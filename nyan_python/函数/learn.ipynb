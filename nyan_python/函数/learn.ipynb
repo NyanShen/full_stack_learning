{
 "cells": [
  {
   "cell_type": "code",
   "execution_count": 10,
   "id": "730f455a",
   "metadata": {},
   "outputs": [
    {
     "data": {
      "text/plain": [
       "['cat', 'dog', 'horse', 'mouse', 'pig', 'cow']"
      ]
     },
     "execution_count": 10,
     "metadata": {},
     "output_type": "execute_result"
    }
   ],
   "source": [
    "# dir 会返回一个内置方法与属性的列表，帮你列出特定数据类型能做的所有事情。\n",
    "# dir('cat,dog,house')\n",
    "# 'cat,dog,house'.title()\n",
    "animals = 'cat,dog,horse,mouse,pig,cow' \n",
    "animals.split(',', -1)\n",
    "# help(animals.split) # split() 方法将字符串分割成列表，默认以空格为分隔符"
   ]
  }
 ],
 "metadata": {
  "kernelspec": {
   "display_name": "llm_learn",
   "language": "python",
   "name": "python3"
  },
  "language_info": {
   "codemirror_mode": {
    "name": "ipython",
    "version": 3
   },
   "file_extension": ".py",
   "mimetype": "text/x-python",
   "name": "python",
   "nbconvert_exporter": "python",
   "pygments_lexer": "ipython3",
   "version": "3.10.12"
  }
 },
 "nbformat": 4,
 "nbformat_minor": 5
}
