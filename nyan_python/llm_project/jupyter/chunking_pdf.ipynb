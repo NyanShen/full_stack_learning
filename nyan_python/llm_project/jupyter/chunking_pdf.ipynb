{
 "cells": [
  {
   "cell_type": "code",
   "execution_count": null,
   "metadata": {},
   "outputs": [],
   "source": [
    "from langchain.document_loaders import PyPDFLoader\n",
    "from langchain.text_splitter import RecursiveCharacterTextSplitter\n",
    "\n",
    "def chunking_pdf():\n",
    "    loader = PyPDFLoader('15040.pdf')\n",
    "    documents = loader.load()\n",
    "\n",
    "    text_splitter = RecursiveCharacterTextSplitter(\n",
    "        separators=[\"\\n\\n\", \"\\n\", \"。\", \"？\",\"！\"],\n",
    "        chunk_size=1000, \n",
    "        chunk_overlap=200\n",
    "        )\n",
    "    split_docs = text_splitter.split_documents(documents)\n",
    "\n",
    "    chunks = [doc.page_content for doc in split_docs]\n",
    "    return chunks\n",
    "\n",
    "chunks = chunking_pdf()"
   ]
  },
  {
   "cell_type": "code",
   "execution_count": 13,
   "metadata": {},
   "outputs": [
    {
     "ename": "TypeError",
     "evalue": "object of type 'Document' has no len()",
     "output_type": "error",
     "traceback": [
      "\u001b[0;31m---------------------------------------------------------------------------\u001b[0m",
      "\u001b[0;31mTypeError\u001b[0m                                 Traceback (most recent call last)",
      "Cell \u001b[0;32mIn[13], line 4\u001b[0m\n\u001b[1;32m      1\u001b[0m \u001b[38;5;28;01mimport\u001b[39;00m\u001b[38;5;250m \u001b[39m\u001b[38;5;21;01mmatplotlib\u001b[39;00m\u001b[38;5;21;01m.\u001b[39;00m\u001b[38;5;21;01mpyplot\u001b[39;00m\u001b[38;5;250m \u001b[39m\u001b[38;5;28;01mas\u001b[39;00m\u001b[38;5;250m \u001b[39m\u001b[38;5;21;01mplt\u001b[39;00m\n\u001b[1;32m      3\u001b[0m \u001b[38;5;66;03m# 计算每个块的大小\u001b[39;00m\n\u001b[0;32m----> 4\u001b[0m chunk_sizes \u001b[38;5;241m=\u001b[39m [\u001b[38;5;28mlen\u001b[39m(chunk) \u001b[38;5;28;01mfor\u001b[39;00m chunk \u001b[38;5;129;01min\u001b[39;00m chunks]\n\u001b[1;32m      5\u001b[0m \u001b[38;5;28mprint\u001b[39m(chunk_sizes)\n\u001b[1;32m      6\u001b[0m \u001b[38;5;66;03m# 绘制块大小分布图\u001b[39;00m\n",
      "Cell \u001b[0;32mIn[13], line 4\u001b[0m, in \u001b[0;36m<listcomp>\u001b[0;34m(.0)\u001b[0m\n\u001b[1;32m      1\u001b[0m \u001b[38;5;28;01mimport\u001b[39;00m\u001b[38;5;250m \u001b[39m\u001b[38;5;21;01mmatplotlib\u001b[39;00m\u001b[38;5;21;01m.\u001b[39;00m\u001b[38;5;21;01mpyplot\u001b[39;00m\u001b[38;5;250m \u001b[39m\u001b[38;5;28;01mas\u001b[39;00m\u001b[38;5;250m \u001b[39m\u001b[38;5;21;01mplt\u001b[39;00m\n\u001b[1;32m      3\u001b[0m \u001b[38;5;66;03m# 计算每个块的大小\u001b[39;00m\n\u001b[0;32m----> 4\u001b[0m chunk_sizes \u001b[38;5;241m=\u001b[39m [\u001b[38;5;28;43mlen\u001b[39;49m\u001b[43m(\u001b[49m\u001b[43mchunk\u001b[49m\u001b[43m)\u001b[49m \u001b[38;5;28;01mfor\u001b[39;00m chunk \u001b[38;5;129;01min\u001b[39;00m chunks]\n\u001b[1;32m      5\u001b[0m \u001b[38;5;28mprint\u001b[39m(chunk_sizes)\n\u001b[1;32m      6\u001b[0m \u001b[38;5;66;03m# 绘制块大小分布图\u001b[39;00m\n",
      "\u001b[0;31mTypeError\u001b[0m: object of type 'Document' has no len()"
     ]
    }
   ],
   "source": [
    "import matplotlib.pyplot as plt\n",
    "\n",
    "# 计算每个块的大小\n",
    "chunk_sizes = [len(chunk) for chunk in chunks]\n",
    "print(chunk_sizes)\n",
    "# 绘制块大小分布图\n",
    "plt.figure(figsize=(20, 6))\n",
    "plt.hist(chunk_sizes, bins=20, color='skyblue', edgecolor='black')\n",
    "plt.title('Chunk Size Distribution')\n",
    "plt.xlabel('Chunk Size (Characters)')\n",
    "plt.ylabel('Frequency')\n",
    "plt.grid(True)\n",
    "plt.show()"
   ]
  }
 ],
 "metadata": {
  "kernelspec": {
   "display_name": "llm_learn",
   "language": "python",
   "name": "python3"
  },
  "language_info": {
   "codemirror_mode": {
    "name": "ipython",
    "version": 3
   },
   "file_extension": ".py",
   "mimetype": "text/x-python",
   "name": "python",
   "nbconvert_exporter": "python",
   "pygments_lexer": "ipython3",
   "version": "3.10.12"
  }
 },
 "nbformat": 4,
 "nbformat_minor": 2
}
