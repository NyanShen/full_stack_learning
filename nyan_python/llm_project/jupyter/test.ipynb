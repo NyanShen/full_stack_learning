{
 "cells": [
  {
   "cell_type": "code",
   "execution_count": 112,
   "metadata": {},
   "outputs": [],
   "source": [
    "\n",
    "text=\"\"\"\n",
    "ABCDEF?GHILLL?KOQLLLL\n",
    "\"\"\""
   ]
  },
  {
   "cell_type": "code",
   "execution_count": 113,
   "metadata": {},
   "outputs": [
    {
     "name": "stdout",
     "output_type": "stream",
     "text": [
      "['ABCD', 'CDEF?', 'F?GHI', 'HILLL', 'LL?KO', 'KOQLL', 'LLLL']\n"
     ]
    }
   ],
   "source": [
    "from langchain.text_splitter import CharacterTextSplitter\n",
    "text_splitter = CharacterTextSplitter(separator=\"\",chunk_size=5, chunk_overlap=2)\n",
    "chunks = text_splitter.split_text(text)\n",
    "print(chunks)"
   ]
  },
  {
   "cell_type": "code",
   "execution_count": 107,
   "metadata": {},
   "outputs": [
    {
     "name": "stdout",
     "output_type": "stream",
     "text": [
      "['\\nABCDEF', '?GHILLL', '?KOQLLLL']\n"
     ]
    }
   ],
   "source": [
    "from langchain.text_splitter import RecursiveCharacterTextSplitter\n",
    "text_splitter = RecursiveCharacterTextSplitter(separators=[\"\\n\",\"?\"],chunk_size=6, chunk_overlap=4)\n",
    "chunks = text_splitter.split_text(text)\n",
    "print(chunks)"
   ]
  },
  {
   "cell_type": "code",
   "execution_count": 128,
   "metadata": {},
   "outputs": [
    {
     "name": "stdout",
     "output_type": "stream",
     "text": [
      "Chunk 1: LangChain is a framework designed to simplify the creation of applications using large language\n",
      "\n",
      "Chunk 2: large language models\n",
      "\n",
      "Chunk 3: .\n",
      "\n",
      "Chunk 4: It provides tools to work with text, such as text splitting, embeddings, and more.\n",
      "\n",
      "Chunk 5: The framework is highly modular and can be extended to suit various use cases.\n",
      "\n"
     ]
    }
   ],
   "source": [
    "from langchain.text_splitter import RecursiveCharacterTextSplitter\n",
    "\n",
    "# 示例文本\n",
    "text = \"\"\"\n",
    "LangChain is a framework designed to simplify the creation of applications using large language models. \n",
    "It provides tools to work with text, such as text splitting, embeddings, and more. \n",
    "The framework is highly modular and can be extended to suit various use cases.\n",
    "\"\"\"\n",
    "\n",
    "# 初始化RecursiveCharacterTextSplitter\n",
    "text_splitter = RecursiveCharacterTextSplitter(\n",
    "    separators=[\"\\n\\n\", \"\\n\", \".\", \" \"],\n",
    "    chunk_size=100,  # 每个块的最大字符数\n",
    "    chunk_overlap=20,  # 块之间的重叠字符数\n",
    ")\n",
    "\n",
    "# 进行语义分块\n",
    "chunks = text_splitter.split_text(text)\n",
    "\n",
    "# 输出分块结果\n",
    "for i, chunk in enumerate(chunks):\n",
    "    print(f\"Chunk {i+1}: {chunk}\\n\")"
   ]
  },
  {
   "cell_type": "code",
   "execution_count": 129,
   "metadata": {},
   "outputs": [
    {
     "name": "stdout",
     "output_type": "stream",
     "text": [
      "Chunk 2 may lack semantic coherence: large language models\n",
      "Chunk 3 may lack semantic coherence: .\n"
     ]
    }
   ],
   "source": [
    "\n",
    "def evaluate_chunks(chunks, max_chunk_size):\n",
    "    for i, chunk in enumerate(chunks):\n",
    "        # 检查块大小是否超过最大限制\n",
    "        if len(chunk) > max_chunk_size:\n",
    "            print(f\"Chunk {i+1} exceeds the maximum chunk size: {len(chunk)} characters\")\n",
    "        \n",
    "        # 简单的语义连贯性检查（可以根据需要扩展）\n",
    "        if len(chunk.split()) < 5:  # 假设块至少应有5个单词\n",
    "            print(f\"Chunk {i+1} may lack semantic coherence: {chunk}\")\n",
    "\n",
    "# 评估分块结果\n",
    "max_chunk_size = 100\n",
    "evaluate_chunks(chunks, max_chunk_size)"
   ]
  }
 ],
 "metadata": {
  "kernelspec": {
   "display_name": "llm_learn",
   "language": "python",
   "name": "python3"
  },
  "language_info": {
   "codemirror_mode": {
    "name": "ipython",
    "version": 3
   },
   "file_extension": ".py",
   "mimetype": "text/x-python",
   "name": "python",
   "nbconvert_exporter": "python",
   "pygments_lexer": "ipython3",
   "version": "3.10.12"
  }
 },
 "nbformat": 4,
 "nbformat_minor": 2
}
